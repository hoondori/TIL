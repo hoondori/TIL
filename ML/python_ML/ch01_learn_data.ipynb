{
 "cells": [
  {
   "cell_type": "markdown",
   "metadata": {},
   "source": [
    "# Ch1 Giving Computers the Ability to Learn from Data\n",
    "\n",
    "\n",
    "## 머신 러닝의 시대\n",
    "\n",
    "* 풍부한 (공개)데이타: MNIST, ImageNet, Kaggle\n",
    "* 풍부한 알고리즘 : Deep Learning\n",
    "* 풍부한 ML 오픈소스 라이브러리: SciPy, Theno, tensorflow, OpenAI \n",
    "* 풍부한 학습 자료\n",
    "\n",
    "## 머신 러닝이란?\n",
    "\n",
    "* AI 의 하부 범주로 분류되어 왔음\n",
    "* 자가학습(Self-Learning)을 통해 Data to Knowledge\n",
    "* 예측 모델 구축\n",
    "* 데이터 기반 판단(Data-driven decision)\n",
    "\n",
    "## 머신 러닝의 세가지 분류\n",
    "\n",
    "<img style=\"float: left;\" src=\"./images/ch01/1.png\" width=\"600\">"
   ]
  },
  {
   "cell_type": "markdown",
   "metadata": {
    "collapsed": true
   },
   "source": [
    "### 지도학습(Supervised Learning)\n",
    "\n",
    "* Label이 주어진 것 \n",
    "* 학습을 통해 unseen label을 추측(predict)해 내는 것\n",
    "* classification, regression\n",
    "* ex) \n",
    "  * binary classification : spam/non-spam\n",
    "  * multiclass classification : Handwritten letter \n",
    "  * linear/logistic regression\n",
    "\n",
    "  \n",
    "<img style=\"float: left;\" src=\"./images/ch01/2.png\" width=\"600\">\n",
    "  \n",
    "<img style=\"float: left;\" src=\"./images/ch01/3.png\" width=\"400\">\n",
    "<img align=\"float: left;\" src=\"./images/ch01/4.png\" width=\"400\">\n",
    "\n"
   ]
  },
  {
   "cell_type": "markdown",
   "metadata": {},
   "source": [
    "### 강화학습(Reinforcement Learning)\n",
    "\n",
    "* Agent가 환경과의 interaction을 통해서 더 나은 퍼포먼스를 내도록 하는 것\n",
    "* 주요 요소\n",
    "  * Agent\n",
    "  * Action\n",
    "  * Environment (or State)\n",
    "  * Reward (or feedback)\n",
    "* Learn a serials of actions that maximize long-term reward via exploratory trial-and-error approach\n",
    "\n",
    "<img style=\"float: left;\" src=\"./images/ch01/5.png\" width=\"600\">\n",
    "<img style=\"float: left;\" src=\"./images/ch01/6.png\" width=\"600\">  \n",
    "  "
   ]
  },
  {
   "cell_type": "markdown",
   "metadata": {},
   "source": [
    "### 자율 학습 (Unsupervised Learning)\n",
    "\n",
    "* label도 reward도 없다.\n",
    "* 데이터만 가지고 그 데이터가 가진 내재화된 구조를 밝혀내는 것\n",
    "* ex)\n",
    "  * 데이터 간의 유사성을 기반으로 한 동종의 그룹 찾기\n",
    "  * 데이터의 공통성을 근간으로 하는 데이터 압축(차원 축소)\n",
    "    * 시간, 공간적 효율성, 노이즈 감소\n",
    "\n",
    "<img style=\"float: left;\" src=\"./images/ch01/7.png\" width=\"400\">\n",
    "<img style=\"float: left;\" src=\"./images/ch01/8.png\" width=\"700\"> \n",
    "    \n",
    "    \n",
    "  \n",
    "  \n",
    "  "
   ]
  },
  {
   "cell_type": "markdown",
   "metadata": {},
   "source": [
    "## 기본적 용어 및 개념 소개\n",
    "\n",
    "* Iris-Data : 꽃 데이터, 3종류\n",
    "\n",
    "<img style=\"float: left;\" src=\"./images/ch01/9.png\" width=\"600\">\n",
    "<img style=\"float: left;\" src=\"./images/ch01/10.png\" width=\"500\">\n"
   ]
  },
  {
   "cell_type": "markdown",
   "metadata": {},
   "source": [
    "## 머신 러닝 시스템 작성 절차\n",
    "\n",
    "<img style=\"float: left;\" src=\"./images/ch01/11.png\" width=\"700\">\n"
   ]
  },
  {
   "cell_type": "markdown",
   "metadata": {},
   "source": [
    "### Preprocessing\n",
    "* Cleansing\n",
    "  * imputation, normalization(zero-centered, same scale)\n",
    "* feature engineering\n",
    "  * invention, selection, transformation(by kernel)\n",
    " \n",
    "<img style=\"float: left;\" src=\"./images/ch01/14.png\" width=\"500\"> \n",
    "<img style=\"float: left;\" src=\"./images/ch01/12.png\" width=\"700\">\n",
    "<img style=\"float: left;\" src=\"./images/ch01/13.png\" width=\"700\">"
   ]
  },
  {
   "cell_type": "markdown",
   "metadata": {},
   "source": [
    "### Model selection\n",
    "\n",
    "어떠한 모델이 이 데이터에 적합한 것인가?\n",
    "* Regression?, Decision Tree?, Deep Neural Network? or Ensenble?\n",
    "\n",
    "어떠한 평가 지표를 가지고 측정할 것인가?\n",
    "* 인식률(classification rate), precision/recall, F-score, AIC, BIC 등\n",
    "\n",
    "어떠한 데이터셋 구성을 가지고 측정할 것인가?\n",
    "* Training Set, \n",
    "* Validation Set\n",
    "* Test Set\n",
    "\n",
    "어떻게 Hyperparameter를 최적화 할 것인가?\n",
    "* hyperparameter : 학습 알고리즘으로는 자동적으로 알아낼 수 없는 변수값\n"
   ]
  },
  {
   "cell_type": "markdown",
   "metadata": {},
   "source": [
    "##  Python으로 머신러닝 하기\n",
    "\n",
    "수학 라이브러리\n",
    "* Numpy, Scipy\n",
    "\n",
    "머신러닝 라이브러리\n",
    "* Scikit-learn, panda\n",
    "\n",
    "설치\n",
    "* virtualenv, pip, anaconda\n",
    "\n"
   ]
  },
  {
   "cell_type": "code",
   "execution_count": null,
   "metadata": {
    "collapsed": true
   },
   "outputs": [],
   "source": []
  }
 ],
 "metadata": {
  "kernelspec": {
   "display_name": "Python 2",
   "language": "python",
   "name": "python2"
  },
  "language_info": {
   "codemirror_mode": {
    "name": "ipython",
    "version": 2
   },
   "file_extension": ".py",
   "mimetype": "text/x-python",
   "name": "python",
   "nbconvert_exporter": "python",
   "pygments_lexer": "ipython2",
   "version": "2.7.11"
  }
 },
 "nbformat": 4,
 "nbformat_minor": 0
}
